{
 "cells": [
  {"cell_type": "markdown", "metadata": {}, "source": ["# 03 — Plot P-T2 Results\n","Plots of alignment statistics vs. isotropic MC. See theory_validation.md §3."]}
 ],
 "metadata": {"kernelspec": {"display_name": "Python 3", "language": "python", "name": "python3"}, "language_info": {"name": "python"}},
 "nbformat": 4,
 "nbformat_minor": 5
}

