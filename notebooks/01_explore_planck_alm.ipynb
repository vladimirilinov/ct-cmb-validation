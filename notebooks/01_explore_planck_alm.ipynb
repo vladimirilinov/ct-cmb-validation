{
 "cells": [
  {
   "cell_type": "markdown",
   "metadata": {},
   "source": [
    "# 01 — Explore Planck a_{ℓm}\n",
    "Refer to theory_validation.md for the scaffold and selection rules."
   ]
  }
 ],
 "metadata": {
  "kernelspec": {"display_name": "Python 3", "language": "python", "name": "python3"},
  "language_info": {"name": "python"}
 },
 "nbformat": 4,
 "nbformat_minor": 5
}

