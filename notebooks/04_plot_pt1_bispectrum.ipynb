{
 "cells": [
  {"cell_type": "markdown", "metadata": {}, "source": ["# 04 — Plot P-T1 Bispectrum\n","Project observed bispectrum onto D6-invariant templates (theory_validation.md §4)."]}
 ],
 "metadata": {"kernelspec": {"display_name": "Python 3", "language": "python", "name": "python3"}, "language_info": {"name": "python"}},
 "nbformat": 4,
 "nbformat_minor": 5
}

